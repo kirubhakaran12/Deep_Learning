{
 "cells": [
  {
   "cell_type": "code",
   "execution_count": 120,
   "metadata": {},
   "outputs": [
    {
     "name": "stdout",
     "output_type": "stream",
     "text": [
      "(200, 3)\n",
      "(200,)\n"
     ]
    }
   ],
   "source": [
    "import numpy as np\n",
    "size = 100\n",
    "x11 = np.random.uniform(low=0.0,high=1.0,size=size)\n",
    "x12 = np.random.uniform(low=2.0,high=8.0,size=size)\n",
    "x13 = np.random.uniform(low=6.0,high=8.0,size=size)\n",
    "\n",
    "x21 = np.random.uniform(low=10.0,high=11.0,size=size)\n",
    "x22 = np.random.uniform(low=12.0,high=18.0,size=size)\n",
    "x23 = np.random.uniform(low=16.0,high=18.0,size=size)\n",
    "\n",
    "y1 = np.transpose(np.zeros(100))\n",
    "y2 = np.transpose(np.ones(100))\n",
    "\n",
    "X1 = np.transpose(np.array([x11, x12, x13]))\n",
    "X2 = np.transpose(np.array([x21, x22, x23]))\n",
    "X = np.vstack((X1, X2))\n",
    "\n",
    "Y = np.hstack((y1, y2))\n",
    "\n",
    "print(X.shape)\n",
    "print(Y.shape)"
   ]
  },
  {
   "cell_type": "code",
   "execution_count": 121,
   "metadata": {},
   "outputs": [],
   "source": [
    "no_neurons_layer = [6,5,4]\n",
    "\n",
    "def weight_init(input_matrix, no_neurons_layer):\n",
    "    \n",
    "    weight_matrix = list()\n",
    "    no_features = input_matrix.shape[1]\n",
    "    for neurons in no_neurons_layer:\n",
    "        weight_matrix.append(np.random.rand(no_features + 1,neurons))\n",
    "        no_features = neurons\n",
    "    \n",
    "    output_classes = len(np.unique(Y))\n",
    "    weight_matrix.append(np.random.rand(no_features + 1, output_classes) )\n",
    "    return weight_matrix\n",
    "\n",
    "weight_matrix = weight_init(X, no_neurons_layer)   "
   ]
  },
  {
   "cell_type": "code",
   "execution_count": 122,
   "metadata": {},
   "outputs": [],
   "source": [
    "def add_bias(inp):\n",
    "    return np.c_[inp,np.ones(inp.shape[0])]\n",
    "\n",
    "def mat_multiply(mat1, mat2):\n",
    "    return np.matmul(mat1, mat2)\n",
    "\n",
    "def sigmoid(inp):\n",
    "    return (1/(1 + np.exp(inp)))\n",
    "\n",
    "def softmax(inp):\n",
    "    op_exp = np.exp(inp)\n",
    "    return op_exp/op_exp.sum(axis = 1)[:,None])\n",
    "    \n",
    "\n",
    "layers = [None] * (len(no_neurons_layer) + 2) #2 - one for input and one for output and the rest are hidden layers\n",
    "layers[0] = X #input layer\n",
    "\n",
    "for layer in range(len(no_neurons_layer) + 1):\n",
    "    layers[layer + 1] = sigmoid(mat_multiply(add_bias(layers[layer]), weight_matrix[layer]))"
   ]
  }
 ],
 "metadata": {
  "kernelspec": {
   "display_name": "Python 3",
   "language": "python",
   "name": "python3"
  },
  "language_info": {
   "codemirror_mode": {
    "name": "ipython",
    "version": 3
   },
   "file_extension": ".py",
   "mimetype": "text/x-python",
   "name": "python",
   "nbconvert_exporter": "python",
   "pygments_lexer": "ipython3",
   "version": "3.6.4"
  }
 },
 "nbformat": 4,
 "nbformat_minor": 2
}
